{
 "cells": [
  {
   "cell_type": "markdown",
   "metadata": {},
   "source": [
    "# kmeans"
   ]
  },
  {
   "cell_type": "code",
   "execution_count": 2,
   "metadata": {},
   "outputs": [
    {
     "name": "stdout",
     "output_type": "stream",
     "text": [
      "[1 2 1 0]\n"
     ]
    }
   ],
   "source": [
    "from sklearn.cluster import KMeans\n",
    "import numpy as np\n",
    "\n",
    "# 假设这是我们的客户数据：[消费金额, 购物频率]\n",
    "customer_data = np.array([\n",
    "    [100, 20],  # 客户1的数据\n",
    "    [2000, 45], # 客户2的数据\n",
    "    [340, 15],  # 客户3的数据\n",
    "    [1500, 40], # 客户4的数据\n",
    "])\n",
    "\n",
    "# 创建KMeans模型，设置分组数量为3\n",
    "kmeans = KMeans(n_clusters=3)\n",
    "\n",
    "# 进行聚类\n",
    "kmeans.fit(customer_data)\n",
    "\n",
    "# 获取每个客户所属的组\n",
    "clusters = kmeans.labels_\n",
    "\n",
    "print(clusters)"
   ]
  },
  {
   "cell_type": "code",
   "execution_count": null,
   "metadata": {},
   "outputs": [],
   "source": []
  }
 ],
 "metadata": {
  "kernelspec": {
   "display_name": "machinelearning",
   "language": "python",
   "name": "python3"
  },
  "language_info": {
   "codemirror_mode": {
    "name": "ipython",
    "version": 3
   },
   "file_extension": ".py",
   "mimetype": "text/x-python",
   "name": "python",
   "nbconvert_exporter": "python",
   "pygments_lexer": "ipython3",
   "version": "3.10.18"
  }
 },
 "nbformat": 4,
 "nbformat_minor": 2
}
