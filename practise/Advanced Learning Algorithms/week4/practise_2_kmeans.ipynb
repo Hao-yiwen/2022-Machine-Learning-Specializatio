{
 "cells": [
  {
   "cell_type": "markdown",
   "metadata": {},
   "source": [
    "# kmeans"
   ]
  },
  {
   "cell_type": "code",
   "execution_count": 1,
   "metadata": {},
   "outputs": [
    {
     "name": "stdout",
     "output_type": "stream",
     "text": [
      "[0 1 0 2]\n"
     ]
    }
   ],
   "source": [
    "from sklearn.cluster import KMeans\n",
    "import numpy as np\n",
    "\n",
    "# 假设这是我们的客户数据：[消费金额, 购物频率]\n",
    "customer_data = np.array([\n",
    "    [100, 20],  # 客户1的数据\n",
    "    [2000, 45], # 客户2的数据\n",
    "    [340, 15],  # 客户3的数据\n",
    "    [1500, 40], # 客户4的数据\n",
    "])\n",
    "\n",
    "# 创建KMeans模型，设置分组数量为3\n",
    "kmeans = KMeans(n_clusters=3)\n",
    "\n",
    "# 进行聚类\n",
    "kmeans.fit(customer_data)\n",
    "\n",
    "# 获取每个客户所属的组\n",
    "clusters = kmeans.labels_\n",
    "\n",
    "print(clusters)"
   ]
  },
  {
   "cell_type": "code",
   "execution_count": null,
   "metadata": {},
   "outputs": [],
   "source": []
  }
 ],
 "metadata": {
  "kernelspec": {
   "display_name": "venv",
   "language": "python",
   "name": "python3"
  },
  "language_info": {
   "codemirror_mode": {
    "name": "ipython",
    "version": 3
   },
   "file_extension": ".py",
   "mimetype": "text/x-python",
   "name": "python",
   "nbconvert_exporter": "python",
   "pygments_lexer": "ipython3",
   "version": "3.10.13"
  }
 },
 "nbformat": 4,
 "nbformat_minor": 2
}
